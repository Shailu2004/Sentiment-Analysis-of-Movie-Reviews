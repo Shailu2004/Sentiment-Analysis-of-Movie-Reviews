{
 "cells": [
  {
   "cell_type": "code",
   "execution_count": null,
   "id": "a9ea7e02",
   "metadata": {},
   "outputs": [],
   "source": [
    "import pandas as pd\n",
    "import re\n",
    "import nltk\n",
    "from sklearn.feature_extraction.text import TfidfVectorizer\n",
    "from sklearn.model_selection import train_test_split\n",
    "from sklearn.metrics import classification_report, accuracy_score\n",
    "from sklearn.linear_model import LogisticRegression\n",
    "from nltk.corpus import stopwords\n",
    "import pickle\n"
   ]
  },
  {
   "cell_type": "markdown",
   "id": "7071f165",
   "metadata": {},
   "source": [
    "### Download the stopwords list if not already available"
   ]
  },
  {
   "cell_type": "code",
   "execution_count": null,
   "id": "fab1a4ed",
   "metadata": {},
   "outputs": [],
   "source": [
    "nltk.download('stopwords')"
   ]
  },
  {
   "cell_type": "markdown",
   "id": "88879caa",
   "metadata": {},
   "source": [
    "### Load the dataset"
   ]
  },
  {
   "cell_type": "code",
   "execution_count": null,
   "id": "cbad5e4a",
   "metadata": {},
   "outputs": [],
   "source": [
    "data = pd.read_csv('train_full_sentiments.csv')"
   ]
  },
  {
   "cell_type": "markdown",
   "id": "94493935",
   "metadata": {},
   "source": [
    "### Map the sentiment labels to 0 (negative), 1 (neutral), and 2 (positive)"
   ]
  },
  {
   "cell_type": "code",
   "execution_count": null,
   "id": "3e13b701",
   "metadata": {},
   "outputs": [],
   "source": [
    "def map_sentiment(sentiment):\n",
    "    if sentiment in [0, 1]:\n",
    "        return 0  # Negative\n",
    "    elif sentiment == 2:\n",
    "        return 1  # Neutral\n",
    "    else:\n",
    "        return 2  # Positive\n",
    "\n",
    "data['Sentiment'] = data['Sentiment'].apply(map_sentiment)"
   ]
  },
  {
   "cell_type": "markdown",
   "id": "663e5658",
   "metadata": {},
   "source": [
    "### Function to clean text: removing special characters, converting to lowercase, and removing stopwords"
   ]
  },
  {
   "cell_type": "code",
   "execution_count": null,
   "id": "50244363",
   "metadata": {},
   "outputs": [],
   "source": [
    "stop_words = set(stopwords.words('english'))\n",
    "def clean_text(text):\n",
    "    text = re.sub(r'\\W', ' ', text)  \n",
    "    text = text.lower() \n",
    "    text = ' '.join(word for word in text.split() if word not in stop_words)  \n",
    "    return text\n",
    "\n",
    "data['Phrase'] = data['Phrase'].apply(clean_text)"
   ]
  },
  {
   "cell_type": "markdown",
   "id": "00090a36",
   "metadata": {},
   "source": [
    "### Split the data into training and testing sets"
   ]
  },
  {
   "cell_type": "code",
   "execution_count": null,
   "id": "7e3d4af2",
   "metadata": {},
   "outputs": [],
   "source": [
    "X = data['Phrase']\n",
    "y = data['Sentiment']\n",
    "X_train, X_test, y_train, y_test = train_test_split(X, y, test_size=0.2, random_state=42)"
   ]
  },
  {
   "cell_type": "markdown",
   "id": "a1decdf1",
   "metadata": {},
   "source": [
    "### Use TF-IDF vectorizer with both unigrams and bigrams, and a reduced number of features"
   ]
  },
  {
   "cell_type": "code",
   "execution_count": null,
   "id": "94e8575a",
   "metadata": {},
   "outputs": [],
   "source": [
    "tfidf = TfidfVectorizer(ngram_range=(1, 2), max_features=5000)\n",
    "X_train_tfidf = tfidf.fit_transform(X_train)\n",
    "X_test_tfidf = tfidf.transform(X_test)"
   ]
  },
  {
   "cell_type": "markdown",
   "id": "e3a7704e",
   "metadata": {},
   "source": [
    "### Train a Logistic Regression model (faster than Random Forest)"
   ]
  },
  {
   "cell_type": "code",
   "execution_count": null,
   "id": "cfd64182",
   "metadata": {},
   "outputs": [],
   "source": [
    "model = LogisticRegression(max_iter=1000)\n",
    "model.fit(X_train_tfidf, y_train)"
   ]
  },
  {
   "cell_type": "markdown",
   "id": "546b23de",
   "metadata": {},
   "source": [
    "### Evaluate the Logistic Regression model"
   ]
  },
  {
   "cell_type": "code",
   "execution_count": null,
   "id": "24713851",
   "metadata": {},
   "outputs": [],
   "source": [
    "y_pred = model.predict(X_test_tfidf)\n",
    "accuracy = accuracy_score(y_test, y_pred)\n",
    "classification_report_lr = classification_report(y_test, y_pred)\n",
    "\n",
    "print('Logistic Regression Model Accuracy:', accuracy)\n",
    "print(classification_report_lr)"
   ]
  },
  {
   "cell_type": "markdown",
   "id": "cfc5c19b",
   "metadata": {},
   "source": [
    "### Save the model and TF-IDF vectorizer for later use in the Streamlit app"
   ]
  },
  {
   "cell_type": "code",
   "execution_count": null,
   "id": "ba6d54d6",
   "metadata": {},
   "outputs": [],
   "source": [
    "with open('sentiment_model_lr.pkl', 'wb') as f:\n",
    "    pickle.dump(model, f)\n",
    "with open('tfidf_vectorizer.pkl', 'wb') as f:\n",
    "    pickle.dump(tfidf, f)"
   ]
  }
 ],
 "metadata": {
  "language_info": {
   "name": "python"
  }
 },
 "nbformat": 4,
 "nbformat_minor": 5
}
